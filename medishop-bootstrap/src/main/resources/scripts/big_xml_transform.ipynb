{
 "cells": [
  {
   "cell_type": "code",
   "execution_count": 4,
   "id": "initial_id",
   "metadata": {
    "collapsed": true,
    "ExecuteTime": {
     "end_time": "2023-12-21T01:57:18.809830Z",
     "start_time": "2023-12-21T01:54:39.998684100Z"
    }
   },
   "outputs": [],
   "source": [
    "import xmltodict\n",
    "\n",
    "# 忽略命名空间\n",
    "namespaces = {\n",
    "    'http://www.drugbank.ca': None\n",
    "}\n",
    "\n",
    "with open('data/drugbank.xml', 'r', encoding=\"utf-8\") as file:\n",
    "    xml_data = file.read()\n",
    "\n",
    "# XML转换为dict\n",
    "xml_dict = xmltodict.parse(xml_data, process_namespaces=True, namespaces=namespaces)"
   ]
  },
  {
   "cell_type": "code",
   "execution_count": 5,
   "outputs": [],
   "source": [
    "import json\n",
    "\n",
    "drugs: list[dict] = xml_dict.get('drugbank').get('drug')\n",
    "drug_test = drugs[0]\n",
    "json_test = json.dumps(drug_test)\n",
    "# print(json_test)"
   ],
   "metadata": {
    "collapsed": false,
    "ExecuteTime": {
     "end_time": "2023-12-21T01:58:34.193538700Z",
     "start_time": "2023-12-21T01:58:34.177734200Z"
    }
   },
   "id": "3a9999ab102cb3ab"
  },
  {
   "cell_type": "code",
   "execution_count": null,
   "outputs": [],
   "source": [
    "import re\n",
    "\n",
    "\"\"\"\n",
    "classification: 分类  ——尚未解析\n",
    "general-references: 文献引用  ——尚未解析\n",
    "synonyms: 同义词 ——尚未解析\n",
    "products: 产品 ——尚未解析\n",
    "    product:\n",
    "        name（名称）: 药物产品的名称\n",
    "        labeller（生产厂商）: 药物产品的生产厂商\n",
    "        ndc-id（NDC ID）: 药物产品的国家药品代码（NDC ID）\n",
    "        ndc-product-code（NDC产品代码）: 药物产品的国家药品代码产品代码\n",
    "        dpd-id（加拿大药物产品数据库的DPD ID）: 药物产品在加拿大药物产品数据库中的DPD ID。仅在产品在加拿大上市时出现。DPD ID from the            Canadian Drug Product Database. Only present for drugs that are marketed in Canada.\n",
    "        ema-product-code（欧洲药品管理局数据库的EMA产品代码）: 药物产品在欧洲药品管理局数据库中的EMA产品代码。仅在产品在欧洲联盟市场上市时出现。    EMA product code from the European Medicines Agency Database. Only present for products that are authorised by          central procedure for marketing in the European Union.\n",
    "        ema-ma-number（欧洲药品管理局数据库的EMA营销授权号）: 药物产品在欧洲药品管理局数据库中的EMA营销授权号。仅在产品在欧洲联盟市场上市时出现。     EMA marketing authorisation number from the European Medicines Agency Database.\n",
    "                    Only present for products that are authorised by central procedure for marketing in the European Union.\n",
    "        started-marketing-on（上市日期）: 药物产品上市的日期。\n",
    "        ended-marketing-on（停售日期）: 药物产品停售的日期。\n",
    "        dosage-form（剂型）: 药物产品的剂型。\n",
    "        strength（剂量）: 药物产品的剂量。\n",
    "        route（给药途径）: 药物产品的给药途径。\n",
    "        fda-application-number（FDA申请号）: 药物产品的FDA申请号。\n",
    "        generic（是否为仿制药）: 药物产品是否为仿制药。\n",
    "        over-the-counter（是否为非处方药）: 药物产品是否为非处方药。\n",
    "        approved（是否获得批准上市）: 药物产品是否已获得批准上市。\n",
    "        country（国家）: 药物产品的来源国家。\"US\" (美国), \"Canada\" (加拿大), 和 \"EU\" (欧联) Drug products are currently only imported     from the U.S. (FDA) and Canada (Canadian Drug Product Database, or DPD).\n",
    "        source（信息来源）: 药物产品信息的来源。\"FDA NDC\" (美国FDA国家药品代码), \"DPD\" (加拿大药物产品数据库), 和 \"EMA\" (欧洲药品管理局数据库) Drug products are currently only imported from the FDA and the Canadian Drug Product Database, or DPD.\n",
    "\"\"\"\n",
    "\n",
    "\n",
    "def process_drug(drug: dict) -> None:\n",
    "    \"\"\"Process the drug dictionary.\"\"\"\n",
    "    process_ids(drug)\n",
    "    process_groups(drug)\n",
    "\n",
    "\n",
    "def process_ids(drug: dict) -> None:\n",
    "    \"\"\"Process the list of IDs into a dictionary with the ID type as the key.\"\"\"\n",
    "    ids = drug.get('drugbank-id')\n",
    "    for id in ids:\n",
    "        if type(id) != str:\n",
    "            drug['id'] = id.get('#text')\n",
    "            continue\n",
    "        column = re.match(r'([A-Za-z]+)(\\d+)', id).group(1).lower()\n",
    "        drug[column] = id\n",
    "    del drug['drugbank-id']\n",
    "\n",
    "\n",
    "def process_groups(drug: dict) -> None:\n",
    "    \"\"\"Destructure the list of groups into a list of strings.\"\"\"\n",
    "    drug['groups'] = drug.get('groups').get('group')\n"
   ],
   "metadata": {
    "collapsed": false
   },
   "id": "af71b62e475237d5"
  },
  {
   "cell_type": "code",
   "execution_count": null,
   "outputs": [],
   "source": [
    "from typing import Dict, List\n",
    "\n",
    "\n",
    "def iterate_references_to_module(drug: dict, reference_list: List[dict]) -> None:\n",
    "    \"\"\"Destructure the list of references into an independent module.\"\"\"\n",
    "    references: List[dict] = []\n",
    "    origin_references = drug.get('general-references')\n",
    "    articles: Dict[str,list]|None = origin_references.get('articles')\n",
    "    textbooks: Dict[str,list]|None = origin_references.get('textbooks')\n",
    "    links: Dict[str,list]|None = origin_references.get('links')\n",
    "    attachments: Dict[str,list]|None = origin_references.get('attachments')\n",
    "    drug_id = drug.get('id')\n",
    "    if articles:\n",
    "        for article in articles.get('article'):\n",
    "            references.append(\n",
    "                {'drug_id': drug_id,\n",
    "                 'type': 'article',\n",
    "                 'ref-id': article.get('ref-id'),\n",
    "                 'core_sign': article.get('pubmed-id'),\n",
    "                 'citation': article.get('citation')\n",
    "                 })\n",
    "    if textbooks:\n",
    "        for textbook in textbooks.get('textbook'):\n",
    "            references.append(\n",
    "                {'drug_id': drug_id,\n",
    "                 'type': 'textbook',\n",
    "                 'ref-id': textbook.get('ref-id'),\n",
    "                 'core_sign': textbook.get('isbn'),\n",
    "                 'citation': textbook.get('citation')\n",
    "                 })\n",
    "    if links:\n",
    "        for link in links.get('link'):\n",
    "            references.append(\n",
    "                {'drug_id': drug_id,\n",
    "                 'type': 'link',\n",
    "                 'ref-id': link.get('ref-id'),\n",
    "                 'core_sign': link.get('title'),\n",
    "                 'citation': link.get('url')\n",
    "                 })\n",
    "    if attachments:\n",
    "        for attachment in attachments.get('attachment'):\n",
    "            references.append(\n",
    "                {'drug_id': drug_id,\n",
    "                 'type': 'attachment',\n",
    "                 'ref-id': attachment.get('ref-id'),\n",
    "                 'core_sign': attachment.get('title'),\n",
    "                 'citation': attachment.get('url')\n",
    "                 })\n",
    "    reference_list.extend(references)"
   ],
   "metadata": {
    "collapsed": false
   },
   "id": "3c008bc99df6c856"
  },
  {
   "cell_type": "code",
   "execution_count": null,
   "outputs": [],
   "source": [
    "import box\n",
    "\n",
    "# Iterate through drugs\n",
    "for drug_dict in drugs:\n",
    "    drug = box.Box(drug_dict)\n",
    "\n",
    "    # Access specific information about each drug\n",
    "    drugbank_id = drug['drugbank-id']\n",
    "    name = drug['name']\n",
    "    description = drug['description']\n",
    "\n",
    "    # Print or process the information as needed\n",
    "    print(f\"Drugbank ID: {drugbank_id}, Name: {name}, Description: {description}\")\n"
   ],
   "metadata": {
    "collapsed": false
   },
   "id": "60f2bb1d8fd16b0e"
  }
 ],
 "metadata": {
  "kernelspec": {
   "name": "py",
   "language": "python",
   "display_name": "py"
  },
  "language_info": {
   "codemirror_mode": {
    "name": "ipython",
    "version": 2
   },
   "file_extension": ".py",
   "mimetype": "text/x-python",
   "name": "python",
   "nbconvert_exporter": "python",
   "pygments_lexer": "ipython2",
   "version": "2.7.6"
  }
 },
 "nbformat": 4,
 "nbformat_minor": 5
}
