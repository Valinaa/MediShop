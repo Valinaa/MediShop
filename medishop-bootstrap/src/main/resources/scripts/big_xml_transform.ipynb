{
 "cells": [
  {
   "cell_type": "markdown",
   "source": [
    "# 1. DrugBank 数据集处理\n",
    "## 1.1 数据集介绍\n",
    "## 1.2 数据集解析"
   ],
   "metadata": {
    "collapsed": false
   },
   "id": "f99bc99d88bf8a0b"
  },
  {
   "cell_type": "code",
   "execution_count": 2,
   "id": "initial_id",
   "metadata": {
    "collapsed": true,
    "ExecuteTime": {
     "end_time": "2023-12-22T03:27:15.183139500Z",
     "start_time": "2023-12-22T03:21:22.320372300Z"
    }
   },
   "outputs": [],
   "source": [
    "import xmltodict\n",
    "\n",
    "# 忽略命名空间\n",
    "namespaces = {\n",
    "    'http://www.drugbank.ca': None\n",
    "}\n",
    "\n",
    "with open('data/drugbank.xml', 'r', encoding=\"utf-8\") as file:\n",
    "    xml_data = file.read()\n",
    "\n",
    "# XML转换为dict\n",
    "xml_dict = xmltodict.parse(xml_data, process_namespaces=True, namespaces=namespaces)"
   ]
  },
  {
   "cell_type": "markdown",
   "source": [
    "## 1.3 数据集切片测试"
   ],
   "metadata": {
    "collapsed": false
   },
   "id": "c8daa420cdfb0190"
  },
  {
   "cell_type": "code",
   "execution_count": 62,
   "outputs": [],
   "source": [
    "import copy\n",
    "\n",
    "drugs: list[dict] = xml_dict.get('drugbank').get('drug')\n",
    "drug_test= drugs[231:250]\n",
    "drug_source = copy.deepcopy(drug_test)"
   ],
   "metadata": {
    "collapsed": false,
    "ExecuteTime": {
     "end_time": "2023-12-22T07:54:55.130082300Z",
     "start_time": "2023-12-22T07:54:54.461254200Z"
    }
   },
   "id": "3a9999ab102cb3ab"
  },
  {
   "cell_type": "markdown",
   "source": [
    "## 1.4 数据集基础信息处理"
   ],
   "metadata": {
    "collapsed": false
   },
   "id": "cafaf33db653a15d"
  },
  {
   "cell_type": "code",
   "execution_count": 58,
   "outputs": [],
   "source": [
    "import re\n",
    "\n",
    "def process_drug(drug: dict) -> None:\n",
    "    \"\"\"Process the drug dictionary.\"\"\"\n",
    "    process_meta(drug)\n",
    "    process_ids(drug)\n",
    "    process_list(drug)\n",
    "\n",
    "def process_meta(drug: dict) -> None:\n",
    "    \"\"\"Process the drug metadata and format\"\"\"\n",
    "    drug['type'] = drug.get('@type')\n",
    "    del drug['@type']\n",
    "    drug['created'] = drug.get('@created')\n",
    "    del drug['@created']\n",
    "    drug['updated'] = drug.get('@updated')\n",
    "    del drug['@updated']\n",
    "    \n",
    "def process_ids(drug: dict) -> None:\n",
    "    \"\"\"Process the list of IDs into a dictionary with the ID type as the key.\"\"\"\n",
    "    ids = drug.get('drugbank-id')\n",
    "    for drugbank_id in ids:\n",
    "        if type(drugbank_id) != str:\n",
    "            drug['id'] = drugbank_id.get('#text')\n",
    "            continue\n",
    "        column = re.match(r'([A-Za-z]+)(\\d+)', drugbank_id).group(1).lower()+'_id'\n",
    "        drug[column] = drugbank_id\n",
    "    del drug['drugbank-id']\n",
    "\n",
    "def process_list(drug: dict) -> None:\n",
    "    \"\"\"Destructure the list of single property into a list of strings.\"\"\"\n",
    "    \n",
    "    # groups\n",
    "    groups = drug.get('groups').get('group')\n",
    "    drug['groups'] = [groups] if type(groups) != list else groups\n",
    "    # affected-organisms\n",
    "    organism = drug.get('affected-organisms')\n",
    "    if organism:\n",
    "        organisms = drug.get('affected-organisms').get('affected-organism')\n",
    "        drug['affected-organisms'] = [organisms] if type(organisms) != list else organisms"
   ],
   "metadata": {
    "collapsed": false,
    "ExecuteTime": {
     "end_time": "2023-12-22T07:54:26.143188300Z",
     "start_time": "2023-12-22T07:54:26.134665900Z"
    }
   },
   "id": "af71b62e475237d5"
  },
  {
   "cell_type": "markdown",
   "source": [
    "## 1.5 数据集部分属性独立处理"
   ],
   "metadata": {
    "collapsed": false
   },
   "id": "e68a43fd0f0b3cc7"
  },
  {
   "cell_type": "code",
   "execution_count": 59,
   "outputs": [],
   "source": [
    "from typing import Dict, List\n",
    "\n",
    "\n",
    "def iterate_references_to_module(drug: dict, reference_list: List[dict]) -> None:\n",
    "    \"\"\"Destructure the list of references into an independent module.\"\"\"\n",
    "    references: List[dict] = []\n",
    "    origin_references = drug.get('general-references')\n",
    "    articles: Dict[str,list]|None = origin_references.get('articles')\n",
    "    textbooks: Dict[str,list]|None = origin_references.get('textbooks')\n",
    "    links: Dict[str,list]|None = origin_references.get('links')\n",
    "    attachments: Dict[str,list]|None = origin_references.get('attachments')\n",
    "    drug_id = drug.get('id')\n",
    "    if articles:\n",
    "        val = articles.get('article')\n",
    "        if type(val) != list:\n",
    "            val = [val]\n",
    "        for article in val:\n",
    "            references.append(\n",
    "                {'drug_id': drug_id,\n",
    "                 'type': 'article',\n",
    "                 'ref-id': article.get('ref-id'),\n",
    "                 'core_sign': article.get('pubmed-id'),\n",
    "                 'citation': article.get('citation')\n",
    "                 })\n",
    "    if textbooks:\n",
    "        val = textbooks.get('textbook')\n",
    "        if type(val) != list:\n",
    "            val = [val]\n",
    "        for textbook in val:\n",
    "            references.append(\n",
    "                {'drug_id': drug_id,\n",
    "                 'type': 'textbook',\n",
    "                 'ref-id': textbook.get('ref-id'),\n",
    "                 'core_sign': textbook.get('isbn'),\n",
    "                 'citation': textbook.get('citation')\n",
    "                 })\n",
    "    if links:\n",
    "        val = links.get('link')\n",
    "        if type(val) != list:\n",
    "            val = [val]\n",
    "        for link in val:\n",
    "            references.append(\n",
    "                {'drug_id': drug_id,\n",
    "                 'type': 'link',\n",
    "                 'ref-id': link.get('ref-id'),\n",
    "                 'core_sign': link.get('title'),\n",
    "                 'citation': link.get('url')\n",
    "                 })\n",
    "    if attachments:\n",
    "        val = attachments.get('attachment')\n",
    "        if type(val) != list:\n",
    "            val = [val]\n",
    "        for attachment in val:\n",
    "            references.append(\n",
    "                {'drug_id': drug_id,\n",
    "                 'type': 'attachment',\n",
    "                 'ref-id': attachment.get('ref-id'),\n",
    "                 'core_sign': attachment.get('title'),\n",
    "                 'citation': attachment.get('url')\n",
    "                 })\n",
    "    reference_list.extend(references)\n",
    "    del drug['general-references']\n",
    "\n",
    "def iterate_source_to_module(drug: dict, source_list: List[dict])->None:\n",
    "    \"\"\"Process the packagers and manufacturers of the drug\"\"\"\n",
    "    sources: List[dict] = []\n",
    "    drug_id = drug.get('id')\n",
    "    packagers = drug.get('packagers')\n",
    "    manufacturers = drug.get('manufacturers')\n",
    "    if packagers:\n",
    "        val = packagers.get('packager')\n",
    "        if type(val) != list:\n",
    "            val = [val]\n",
    "        for packager in val:\n",
    "            sources.append({\n",
    "                'drug_id': drug_id,\n",
    "                'type': 'packager',\n",
    "                'name': packager.get('name'),\n",
    "                'generic': '',\n",
    "                'url': packager.get('url')\n",
    "            })\n",
    "    if manufacturers:\n",
    "        val = manufacturers.get('manufacturer')\n",
    "        if type(val) != list:\n",
    "            val = [val]\n",
    "        for manufacturer in val:\n",
    "            sources.append({\n",
    "                'drug_id': drug_id,\n",
    "                'type': 'manufacturer',\n",
    "                'name': manufacturer.get('#text'),\n",
    "                'generic': 1 if manufacturer.get('@generic')=='true' else 0,\n",
    "                'url': manufacturer.get('@url')\n",
    "            })\n",
    "    source_list.extend(sources)\n",
    "    del drug['packagers']\n",
    "    del drug['manufacturers']\n",
    "\n",
    "def iterate_price_to_module(drug: dict, price_list: List[dict])->None:\n",
    "    prices: List[dict] = []\n",
    "    drug_id = drug.get('id')\n",
    "    drug_prices = drug.get('prices')\n",
    "    if drug_prices:\n",
    "        val = drug_prices.get('price')\n",
    "        if type(val) != list:\n",
    "            val = [val]\n",
    "        for drug_price in val:\n",
    "            cost = drug_price.get('cost')\n",
    "            prices.append({\n",
    "                'drug_id': drug_id,\n",
    "                'cost': cost.get('#text'),\n",
    "                'currency': cost.get('@currency'),\n",
    "                'unit': drug_price.get('unit'),\n",
    "                'description': drug_price.get('description')\n",
    "            })\n",
    "    price_list.extend(prices)\n",
    "    del drug['prices']"
   ],
   "metadata": {
    "collapsed": false,
    "ExecuteTime": {
     "end_time": "2023-12-22T07:54:27.893523300Z",
     "start_time": "2023-12-22T07:54:27.848115400Z"
    }
   },
   "id": "3c008bc99df6c856"
  },
  {
   "cell_type": "markdown",
   "source": [
    "## 1.6 数据集属性分离(基础信息与学术性信息)"
   ],
   "metadata": {
    "collapsed": false
   },
   "id": "4d4681fc3804248c"
  },
  {
   "cell_type": "code",
   "outputs": [],
   "source": [
    "from typing import Tuple\n",
    "\n",
    "def copy_dict(drug:dict, academic:dict, property: str) -> None:\n",
    "    academic[property] = drug.get(property) if property in drug else None\n",
    "\n",
    "def separate_academic(drug: dict) -> Tuple[dict,dict]:\n",
    "    academic = {}\n",
    "    academic_properties = ['cas-number','unii','average-mass','monoisotopic-mass',\n",
    "                           'synthesis-reference','pharmacodynamics',\n",
    "                           'mechanism-of-action','toxicity','metabolism',\n",
    "                           'absorption','half-life','protein-binding',\n",
    "                           'route-of-elimination','volume-of-distribution',\n",
    "                           'clearance','ahfs-codes','pdb-entries','transporters',\n",
    "                           'carriers','enzymes','targets',\n",
    "                           'snp-adverse-drug-reactions','snp-effects',\n",
    "                           'reactions','pathways','external-links',\n",
    "                           'external-identifiers','experimental-properties',\n",
    "                           'calculated-properties','msds','salts','mixtures',\n",
    "                           'dosages','fda-label','parents']\n",
    "    \n",
    "    for academic_property in academic_properties:\n",
    "        copy_dict(drug,academic,academic_property)\n",
    "        del drug[academic_property]\n",
    "\n",
    "    copy_dict(drug,academic,'name')\n",
    "    copy_dict(drug,academic,'id')\n",
    "    copy_dict(drug,academic,'type')\n",
    "\n",
    "    return drug,academic"
   ],
   "metadata": {
    "collapsed": false,
    "ExecuteTime": {
     "end_time": "2023-12-22T09:13:24.048348800Z",
     "start_time": "2023-12-22T09:13:24.010818300Z"
    }
   },
   "id": "ec718d9438ee7e6b",
   "execution_count": 66
  },
  {
   "cell_type": "markdown",
   "source": [
    "## 1.7 数据集属性输出(csv 或 json)"
   ],
   "metadata": {
    "collapsed": false
   },
   "id": "7005cbb11bfef80"
  },
  {
   "cell_type": "code",
   "outputs": [],
   "source": [
    "import csv\n",
    "import json\n",
    "def module_to_csv(file_path: str, data: List[dict]):\n",
    "    with open(file_path,'w',newline='',encoding='utf-8') as f:\n",
    "        writer = csv.DictWriter(f,fieldnames=list(data[0].keys()))\n",
    "        writer.writeheader()\n",
    "        writer.writerows(data)\n",
    "def module_to_json(file_path: str, data: List[dict]):\n",
    "    with open(file_path, 'w', encoding='utf-8') as f:\n",
    "        json.dump(data, f, ensure_ascii=False, indent=4)"
   ],
   "metadata": {
    "collapsed": false,
    "ExecuteTime": {
     "end_time": "2023-12-22T07:54:57.698202500Z",
     "start_time": "2023-12-22T07:54:57.688189900Z"
    }
   },
   "id": "938b393585cfd39",
   "execution_count": 63
  },
  {
   "cell_type": "markdown",
   "source": [
    "## 1.8 数据集处理结果测试"
   ],
   "metadata": {
    "collapsed": false
   },
   "id": "f4a869609edcfe75"
  },
  {
   "cell_type": "code",
   "outputs": [],
   "source": [
    "references: List[dict] = []\n",
    "sources: List[dict] = []\n",
    "prices: List[dict] = []\n",
    "drug_basic: List[dict] = []\n",
    "drug_academic: List[dict] = []\n",
    "for drug_example in drug_test:\n",
    "    process_drug(drug_example)\n",
    "    iterate_references_to_module(drug_example,references)\n",
    "    iterate_source_to_module(drug_example,sources)\n",
    "    iterate_price_to_module(drug_example,prices)\n",
    "    basic_drug, academic_drug = separate_academic(drug_example)\n",
    "    drug_basic.append(basic_drug)\n",
    "    drug_academic.append(academic_drug)\n",
    "module_to_csv('data/prices.csv',prices)\n",
    "module_to_csv('data/references.csv',references)\n",
    "module_to_csv('data/source.csv',sources)"
   ],
   "metadata": {
    "collapsed": false,
    "ExecuteTime": {
     "end_time": "2023-12-22T07:55:00.509333100Z",
     "start_time": "2023-12-22T07:55:00.390512200Z"
    }
   },
   "id": "1fee42dde4570234",
   "execution_count": 64
  }
 ],
 "metadata": {
  "kernelspec": {
   "name": "python3",
   "language": "python",
   "display_name": "Python 3 (ipykernel)"
  },
  "language_info": {
   "codemirror_mode": {
    "name": "ipython",
    "version": 2
   },
   "file_extension": ".py",
   "mimetype": "text/x-python",
   "name": "python",
   "nbconvert_exporter": "python",
   "pygments_lexer": "ipython2",
   "version": "2.7.6"
  }
 },
 "nbformat": 4,
 "nbformat_minor": 5
}
